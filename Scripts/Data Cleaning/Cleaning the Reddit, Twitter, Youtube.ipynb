{
 "cells": [
  {
   "cell_type": "code",
   "execution_count": 1,
   "id": "18a559d5",
   "metadata": {},
   "outputs": [],
   "source": [
    "import pandas as pd\n",
    "import numpy as np\n",
    "from pandasql import sqldf"
   ]
  },
  {
   "cell_type": "markdown",
   "id": "1e52521d",
   "metadata": {},
   "source": [
    "# Reddit"
   ]
  },
  {
   "cell_type": "markdown",
   "id": "dd22eff9",
   "metadata": {},
   "source": [
    "##### Reading the data"
   ]
  },
  {
   "cell_type": "code",
   "execution_count": 2,
   "id": "f8fbebf3",
   "metadata": {},
   "outputs": [
    {
     "name": "stdout",
     "output_type": "stream",
     "text": [
      "(14347, 4)\n",
      "(356446, 4)\n"
     ]
    }
   ],
   "source": [
    "titles = pd.read_csv('Cleaned_Reddit_Titles.csv')\n",
    "comments = pd.read_csv('Cleaned_Reddit_Comments.csv')\n",
    "print(titles.shape)\n",
    "print(comments.shape)"
   ]
  },
  {
   "cell_type": "markdown",
   "id": "d87f39f2",
   "metadata": {},
   "source": [
    "##### Combining the data"
   ]
  },
  {
   "cell_type": "code",
   "execution_count": 3,
   "id": "119520cd",
   "metadata": {},
   "outputs": [
    {
     "name": "stdout",
     "output_type": "stream",
     "text": [
      "(370793, 4)\n"
     ]
    }
   ],
   "source": [
    "reddit_df = pd.concat([titles, comments], axis = 0)\n",
    "print(reddit_df.shape)"
   ]
  },
  {
   "cell_type": "markdown",
   "id": "b90f54b2",
   "metadata": {},
   "source": [
    "##### Removing nulls"
   ]
  },
  {
   "cell_type": "code",
   "execution_count": 4,
   "id": "776e88d8",
   "metadata": {},
   "outputs": [
    {
     "data": {
      "text/plain": [
       "(370789, 4)"
      ]
     },
     "execution_count": 4,
     "metadata": {},
     "output_type": "execute_result"
    }
   ],
   "source": [
    "reddit_df = reddit_df[reddit_df['text'].notnull()]\n",
    "reddit_df.shape"
   ]
  },
  {
   "cell_type": "markdown",
   "id": "13868457",
   "metadata": {},
   "source": [
    "##### Removing I am a bot or deleted posts or removed posts"
   ]
  },
  {
   "cell_type": "code",
   "execution_count": 5,
   "id": "f746150e",
   "metadata": {},
   "outputs": [
    {
     "data": {
      "text/plain": [
       "(351179, 4)"
      ]
     },
     "execution_count": 5,
     "metadata": {},
     "output_type": "execute_result"
    }
   ],
   "source": [
    "q = '''\n",
    "select *\n",
    "from reddit_df\n",
    "where text not like '%[deleted%' and text not like '%I am a bot%' and text not like '%[remove%'\n",
    "'''\n",
    "\n",
    "reddit_df = sqldf(q)\n",
    "reddit_df.shape"
   ]
  },
  {
   "cell_type": "markdown",
   "id": "b37258d0",
   "metadata": {},
   "source": [
    "##### Dropping duplicates"
   ]
  },
  {
   "cell_type": "code",
   "execution_count": 6,
   "id": "a3aa26fb",
   "metadata": {},
   "outputs": [
    {
     "data": {
      "text/plain": [
       "(277211, 4)"
      ]
     },
     "execution_count": 6,
     "metadata": {},
     "output_type": "execute_result"
    }
   ],
   "source": [
    "reddit_df = reddit_df.drop_duplicates(subset=['id'])\n",
    "reddit_df.shape"
   ]
  },
  {
   "cell_type": "markdown",
   "id": "99397e42",
   "metadata": {},
   "source": [
    "##### Cleaning dates"
   ]
  },
  {
   "cell_type": "code",
   "execution_count": 7,
   "id": "d5fbccf5",
   "metadata": {},
   "outputs": [
    {
     "data": {
      "text/plain": [
       "id                     object\n",
       "created_utc    datetime64[ns]\n",
       "text                   object\n",
       "stock_name             object\n",
       "dtype: object"
      ]
     },
     "execution_count": 7,
     "metadata": {},
     "output_type": "execute_result"
    }
   ],
   "source": [
    "reddit_df['created_utc'] = pd.to_datetime(reddit_df['created_utc'])\n",
    "reddit_df.dtypes"
   ]
  },
  {
   "cell_type": "markdown",
   "id": "f7cca22f",
   "metadata": {},
   "source": [
    "# Twitter"
   ]
  },
  {
   "cell_type": "markdown",
   "id": "91e1ce18",
   "metadata": {},
   "source": [
    "##### Reading the data"
   ]
  },
  {
   "cell_type": "code",
   "execution_count": 8,
   "id": "8926a10a",
   "metadata": {},
   "outputs": [
    {
     "data": {
      "text/html": [
       "<div>\n",
       "<style scoped>\n",
       "    .dataframe tbody tr th:only-of-type {\n",
       "        vertical-align: middle;\n",
       "    }\n",
       "\n",
       "    .dataframe tbody tr th {\n",
       "        vertical-align: top;\n",
       "    }\n",
       "\n",
       "    .dataframe thead th {\n",
       "        text-align: right;\n",
       "    }\n",
       "</style>\n",
       "<table border=\"1\" class=\"dataframe\">\n",
       "  <thead>\n",
       "    <tr style=\"text-align: right;\">\n",
       "      <th></th>\n",
       "      <th>id</th>\n",
       "      <th>created_utc</th>\n",
       "      <th>text</th>\n",
       "    </tr>\n",
       "  </thead>\n",
       "  <tbody>\n",
       "    <tr>\n",
       "      <th>0</th>\n",
       "      <td>1477065441117827072</td>\n",
       "      <td>2021-12-31 23:53:38+00:00</td>\n",
       "      <td>“cinnamon apple sauce is our special today and...</td>\n",
       "    </tr>\n",
       "    <tr>\n",
       "      <th>1</th>\n",
       "      <td>1477063759172669444</td>\n",
       "      <td>2021-12-31 23:46:57+00:00</td>\n",
       "      <td>Hey @Apple Portrait mode does not work well fo...</td>\n",
       "    </tr>\n",
       "    <tr>\n",
       "      <th>2</th>\n",
       "      <td>1477063349330452484</td>\n",
       "      <td>2021-12-31 23:45:19+00:00</td>\n",
       "      <td>$AAPL was the 11th most mentioned on wallstree...</td>\n",
       "    </tr>\n",
       "    <tr>\n",
       "      <th>3</th>\n",
       "      <td>1477058597381185537</td>\n",
       "      <td>2021-12-31 23:26:26+00:00</td>\n",
       "      <td>@MoonMark_ So if I buy 1 share of Apple stock ...</td>\n",
       "    </tr>\n",
       "    <tr>\n",
       "      <th>4</th>\n",
       "      <td>1477054394319335424</td>\n",
       "      <td>2021-12-31 23:09:44+00:00</td>\n",
       "      <td>ARGH! We are not a whiskey household, so it's ...</td>\n",
       "    </tr>\n",
       "    <tr>\n",
       "      <th>...</th>\n",
       "      <td>...</td>\n",
       "      <td>...</td>\n",
       "      <td>...</td>\n",
       "    </tr>\n",
       "    <tr>\n",
       "      <th>88187</th>\n",
       "      <td>1345311527495200768</td>\n",
       "      <td>2021-01-02 10:10:37+00:00</td>\n",
       "      <td>Hey guys, let's do a Q&amp;amp;A! Tweet me your st...</td>\n",
       "    </tr>\n",
       "    <tr>\n",
       "      <th>88188</th>\n",
       "      <td>1345248134205640704</td>\n",
       "      <td>2021-01-02 05:58:43+00:00</td>\n",
       "      <td>@mukund @psycho_stock Here is part of the thes...</td>\n",
       "    </tr>\n",
       "    <tr>\n",
       "      <th>88189</th>\n",
       "      <td>1345247397350281216</td>\n",
       "      <td>2021-01-02 05:55:47+00:00</td>\n",
       "      <td>@dividendvalue @psycho_stock Good point. You m...</td>\n",
       "    </tr>\n",
       "    <tr>\n",
       "      <th>88190</th>\n",
       "      <td>1345074529551446018</td>\n",
       "      <td>2021-01-01 18:28:52+00:00</td>\n",
       "      <td>2021 HYPER GROWTH stock pics: $IMMR haptic tec...</td>\n",
       "    </tr>\n",
       "    <tr>\n",
       "      <th>88191</th>\n",
       "      <td>1345072853859921925</td>\n",
       "      <td>2021-01-01 18:22:13+00:00</td>\n",
       "      <td>@reciknows @StockMarketNerd Not sure why you’d...</td>\n",
       "    </tr>\n",
       "  </tbody>\n",
       "</table>\n",
       "<p>88192 rows × 3 columns</p>\n",
       "</div>"
      ],
      "text/plain": [
       "                        id                created_utc  \\\n",
       "0      1477065441117827072  2021-12-31 23:53:38+00:00   \n",
       "1      1477063759172669444  2021-12-31 23:46:57+00:00   \n",
       "2      1477063349330452484  2021-12-31 23:45:19+00:00   \n",
       "3      1477058597381185537  2021-12-31 23:26:26+00:00   \n",
       "4      1477054394319335424  2021-12-31 23:09:44+00:00   \n",
       "...                    ...                        ...   \n",
       "88187  1345311527495200768  2021-01-02 10:10:37+00:00   \n",
       "88188  1345248134205640704  2021-01-02 05:58:43+00:00   \n",
       "88189  1345247397350281216  2021-01-02 05:55:47+00:00   \n",
       "88190  1345074529551446018  2021-01-01 18:28:52+00:00   \n",
       "88191  1345072853859921925  2021-01-01 18:22:13+00:00   \n",
       "\n",
       "                                                    text  \n",
       "0      “cinnamon apple sauce is our special today and...  \n",
       "1      Hey @Apple Portrait mode does not work well fo...  \n",
       "2      $AAPL was the 11th most mentioned on wallstree...  \n",
       "3      @MoonMark_ So if I buy 1 share of Apple stock ...  \n",
       "4      ARGH! We are not a whiskey household, so it's ...  \n",
       "...                                                  ...  \n",
       "88187  Hey guys, let's do a Q&amp;A! Tweet me your st...  \n",
       "88188  @mukund @psycho_stock Here is part of the thes...  \n",
       "88189  @dividendvalue @psycho_stock Good point. You m...  \n",
       "88190  2021 HYPER GROWTH stock pics: $IMMR haptic tec...  \n",
       "88191  @reciknows @StockMarketNerd Not sure why you’d...  \n",
       "\n",
       "[88192 rows x 3 columns]"
      ]
     },
     "execution_count": 8,
     "metadata": {},
     "output_type": "execute_result"
    }
   ],
   "source": [
    "twitter_df = pd.read_csv('twitter_tweets.csv')\n",
    "twitter_df = twitter_df[['Tweet Id', 'Datetime','Text']]\n",
    "twitter_df = twitter_df.rename({'Tweet Id':'id','Datetime':'created_utc','Text':'text'}, axis = 1)\n",
    "twitter_df"
   ]
  },
  {
   "cell_type": "markdown",
   "id": "8c1303f7",
   "metadata": {},
   "source": [
    "##### Removing nulls"
   ]
  },
  {
   "cell_type": "code",
   "execution_count": 9,
   "id": "845d4573",
   "metadata": {},
   "outputs": [
    {
     "data": {
      "text/plain": [
       "(88192, 3)"
      ]
     },
     "execution_count": 9,
     "metadata": {},
     "output_type": "execute_result"
    }
   ],
   "source": [
    "twitter_df = twitter_df[twitter_df['text'].notnull()]\n",
    "twitter_df.shape"
   ]
  },
  {
   "cell_type": "markdown",
   "id": "e1547418",
   "metadata": {},
   "source": [
    "#### Dropping duplicates"
   ]
  },
  {
   "cell_type": "code",
   "execution_count": 10,
   "id": "dad6a2e0",
   "metadata": {},
   "outputs": [
    {
     "data": {
      "text/plain": [
       "(78773, 3)"
      ]
     },
     "execution_count": 10,
     "metadata": {},
     "output_type": "execute_result"
    }
   ],
   "source": [
    "twitter_df = twitter_df.drop_duplicates(subset=['id'])\n",
    "twitter_df.shape"
   ]
  },
  {
   "cell_type": "markdown",
   "id": "be4f6dd1",
   "metadata": {},
   "source": [
    "# Cleaning the dates"
   ]
  },
  {
   "cell_type": "code",
   "execution_count": 11,
   "id": "786c4770",
   "metadata": {},
   "outputs": [
    {
     "data": {
      "text/plain": [
       "id                           int64\n",
       "created_utc    datetime64[ns, UTC]\n",
       "text                        object\n",
       "dtype: object"
      ]
     },
     "execution_count": 11,
     "metadata": {},
     "output_type": "execute_result"
    }
   ],
   "source": [
    "twitter_df['created_utc'] = pd.to_datetime(twitter_df['created_utc'])\n",
    "twitter_df.dtypes"
   ]
  },
  {
   "cell_type": "markdown",
   "id": "aee24054",
   "metadata": {},
   "source": [
    "# YouTube"
   ]
  },
  {
   "cell_type": "code",
   "execution_count": 12,
   "id": "d61b39a5",
   "metadata": {},
   "outputs": [
    {
     "name": "stdout",
     "output_type": "stream",
     "text": [
      "(3100, 4)\n",
      "(112754, 4)\n"
     ]
    }
   ],
   "source": [
    "titles = pd.read_csv('Youtube_Titles.csv')\n",
    "comments = pd.read_csv('Cleaned_Youtube_Comments_new.csv')\n",
    "print(titles.shape)\n",
    "print(comments.shape)"
   ]
  },
  {
   "cell_type": "code",
   "execution_count": 13,
   "id": "2624427c",
   "metadata": {},
   "outputs": [],
   "source": [
    "titles = titles.rename({'Video ID':'id','Video Title':'text','Timestamp':'created_utc','query':'stock'}, axis = 1)\n",
    "titles = titles[['id','created_utc','text','stock']]\n",
    "comments = comments.rename({'stock_name':'stock'}, axis = 1)"
   ]
  },
  {
   "cell_type": "markdown",
   "id": "22a29457",
   "metadata": {},
   "source": [
    "##### Dropping titles duplicates"
   ]
  },
  {
   "cell_type": "code",
   "execution_count": 14,
   "id": "22a65876",
   "metadata": {},
   "outputs": [],
   "source": [
    "titles = titles.drop_duplicates(subset=['id'])"
   ]
  },
  {
   "cell_type": "code",
   "execution_count": 15,
   "id": "29eb2be4",
   "metadata": {},
   "outputs": [
    {
     "data": {
      "text/plain": [
       "(115502, 4)"
      ]
     },
     "execution_count": 15,
     "metadata": {},
     "output_type": "execute_result"
    }
   ],
   "source": [
    "youtube_df = pd.concat([titles, comments], axis = 0)\n",
    "youtube_df.shape"
   ]
  },
  {
   "cell_type": "markdown",
   "id": "59776519",
   "metadata": {},
   "source": [
    "##### Cleaning the dates"
   ]
  },
  {
   "cell_type": "code",
   "execution_count": 16,
   "id": "087c3706",
   "metadata": {},
   "outputs": [],
   "source": [
    "youtube_df['created_utc'] = pd.to_datetime(youtube_df['created_utc'])"
   ]
  },
  {
   "cell_type": "code",
   "execution_count": 17,
   "id": "1b2ee3cb",
   "metadata": {},
   "outputs": [
    {
     "data": {
      "text/plain": [
       "id                          object\n",
       "created_utc    datetime64[ns, UTC]\n",
       "text                        object\n",
       "stock                       object\n",
       "dtype: object"
      ]
     },
     "execution_count": 17,
     "metadata": {},
     "output_type": "execute_result"
    }
   ],
   "source": [
    "youtube_df.dtypes"
   ]
  },
  {
   "cell_type": "markdown",
   "id": "aecd5e31",
   "metadata": {},
   "source": [
    "##### Removing nulls"
   ]
  },
  {
   "cell_type": "code",
   "execution_count": 18,
   "id": "8d97229a",
   "metadata": {},
   "outputs": [
    {
     "data": {
      "text/plain": [
       "(115499, 4)"
      ]
     },
     "execution_count": 18,
     "metadata": {},
     "output_type": "execute_result"
    }
   ],
   "source": [
    "youtube_df = youtube_df[youtube_df['text'].notnull()]\n",
    "youtube_df.shape"
   ]
  },
  {
   "cell_type": "markdown",
   "id": "5ab7114f",
   "metadata": {},
   "source": [
    "# Combining all"
   ]
  },
  {
   "cell_type": "code",
   "execution_count": 19,
   "id": "f27ef34e",
   "metadata": {},
   "outputs": [],
   "source": [
    "youtube_df = youtube_df[['id', 'created_utc','text']]\n",
    "youtube_df['source'] = 'Youtube'\n",
    "reddit_df = reddit_df[['id', 'created_utc','text']]\n",
    "reddit_df['source'] = 'Reddit'\n",
    "twitter_df = twitter_df[['id', 'created_utc','text']]\n",
    "twitter_df['source'] = 'Twitter'"
   ]
  },
  {
   "cell_type": "code",
   "execution_count": 20,
   "id": "51655106",
   "metadata": {},
   "outputs": [
    {
     "data": {
      "text/plain": [
       "(471483, 4)"
      ]
     },
     "execution_count": 20,
     "metadata": {},
     "output_type": "execute_result"
    }
   ],
   "source": [
    "df = pd.concat([youtube_df,reddit_df,twitter_df], axis = 0)\n",
    "df.shape"
   ]
  },
  {
   "cell_type": "markdown",
   "id": "a2c36332",
   "metadata": {},
   "source": [
    "##### Removing 2022 Dates"
   ]
  },
  {
   "cell_type": "code",
   "execution_count": 21,
   "id": "fd2912ef",
   "metadata": {},
   "outputs": [],
   "source": [
    "q = '''\n",
    "select * from df\n",
    "where cast(created_utc as date) <= cast('2021-12-31' as date)\n",
    "'''\n",
    "\n",
    "df = sqldf(q)"
   ]
  },
  {
   "cell_type": "code",
   "execution_count": 22,
   "id": "ad3903f8",
   "metadata": {},
   "outputs": [
    {
     "name": "stdout",
     "output_type": "stream",
     "text": [
      "2021-01-01 00:00:06.000000\n",
      "2021-12-31 23:58:38.000000\n"
     ]
    }
   ],
   "source": [
    "print(min(df.created_utc))\n",
    "print(max(df.created_utc))"
   ]
  },
  {
   "cell_type": "code",
   "execution_count": 23,
   "id": "266e5a89",
   "metadata": {},
   "outputs": [],
   "source": [
    "df = df.drop(['id'], axis = 1)"
   ]
  },
  {
   "cell_type": "markdown",
   "id": "8f6ded9b",
   "metadata": {},
   "source": [
    "##### Converting to lowercase, removing punctuations and stop words"
   ]
  },
  {
   "cell_type": "code",
   "execution_count": 24,
   "id": "1ea2060f",
   "metadata": {},
   "outputs": [],
   "source": [
    "#to lower case\n",
    "df['text'] = df['text'].apply(lambda x: x.lower())"
   ]
  },
  {
   "cell_type": "code",
   "execution_count": 25,
   "id": "4f556dca",
   "metadata": {},
   "outputs": [],
   "source": [
    "import string\n",
    "#removing punctuations\n",
    "df['text'] = df['text'].apply(lambda x: x.translate(str.maketrans('', '', string.punctuation)))"
   ]
  },
  {
   "cell_type": "code",
   "execution_count": 26,
   "id": "3e11ecd6",
   "metadata": {},
   "outputs": [
    {
     "name": "stderr",
     "output_type": "stream",
     "text": [
      "[nltk_data] Downloading package stopwords to\n",
      "[nltk_data]     C:\\Users\\Gevin\\AppData\\Roaming\\nltk_data...\n",
      "[nltk_data]   Package stopwords is already up-to-date!\n"
     ]
    }
   ],
   "source": [
    "#removing stopwords\n",
    "import nltk\n",
    "nltk.download('stopwords')\n",
    "from nltk.corpus import stopwords"
   ]
  },
  {
   "cell_type": "code",
   "execution_count": 27,
   "id": "093c0fe8",
   "metadata": {},
   "outputs": [
    {
     "name": "stdout",
     "output_type": "stream",
     "text": [
      "['i', 'me', 'my', 'myself', 'we', 'our', 'ours', 'ourselves', 'you', \"you're\", \"you've\", \"you'll\", \"you'd\", 'your', 'yours', 'yourself', 'yourselves', 'he', 'him', 'his', 'himself', 'she', \"she's\", 'her', 'hers', 'herself', 'it', \"it's\", 'its', 'itself', 'they', 'them', 'their', 'theirs', 'themselves', 'what', 'which', 'who', 'whom', 'this', 'that', \"that'll\", 'these', 'those', 'am', 'is', 'are', 'was', 'were', 'be', 'been', 'being', 'have', 'has', 'had', 'having', 'do', 'does', 'did', 'doing', 'a', 'an', 'the', 'and', 'but', 'if', 'or', 'because', 'as', 'until', 'while', 'of', 'at', 'by', 'for', 'with', 'about', 'against', 'between', 'into', 'through', 'during', 'before', 'after', 'above', 'below', 'to', 'from', 'up', 'down', 'in', 'out', 'on', 'off', 'over', 'under', 'again', 'further', 'then', 'once', 'here', 'there', 'when', 'where', 'why', 'how', 'all', 'any', 'both', 'each', 'few', 'more', 'most', 'other', 'some', 'such', 'no', 'nor', 'not', 'only', 'own', 'same', 'so', 'than', 'too', 'very', 's', 't', 'can', 'will', 'just', 'don', \"don't\", 'should', \"should've\", 'now', 'd', 'll', 'm', 'o', 're', 've', 'y', 'ain', 'aren', \"aren't\", 'couldn', \"couldn't\", 'didn', \"didn't\", 'doesn', \"doesn't\", 'hadn', \"hadn't\", 'hasn', \"hasn't\", 'haven', \"haven't\", 'isn', \"isn't\", 'ma', 'mightn', \"mightn't\", 'mustn', \"mustn't\", 'needn', \"needn't\", 'shan', \"shan't\", 'shouldn', \"shouldn't\", 'wasn', \"wasn't\", 'weren', \"weren't\", 'won', \"won't\", 'wouldn', \"wouldn't\"]\n"
     ]
    }
   ],
   "source": [
    "stopwordslist = stopwords.words('english')\n",
    "print(stopwordslist)"
   ]
  },
  {
   "cell_type": "code",
   "execution_count": 28,
   "id": "96736d79",
   "metadata": {},
   "outputs": [
    {
     "data": {
      "text/plain": [
       "'hello would suffer '"
      ]
     },
     "execution_count": 28,
     "metadata": {},
     "output_type": "execute_result"
    }
   ],
   "source": [
    "stopwordslist = stopwords.words('english')\n",
    "x = 'but hello if i myself had to do it you would suffer'\n",
    "def stopword_remover(x):\n",
    "    new_string = ''\n",
    "    x = x.split()\n",
    "    for i in x:\n",
    "        if i in stopwordslist:\n",
    "            continue\n",
    "        else:\n",
    "            new_string +=i\n",
    "            new_string += ' '\n",
    "    return new_string\n",
    "\n",
    "stopword_remover(x)"
   ]
  },
  {
   "cell_type": "code",
   "execution_count": 29,
   "id": "84106b57",
   "metadata": {},
   "outputs": [],
   "source": [
    "df['text'] = df['text'].apply(lambda x: stopword_remover(x))"
   ]
  },
  {
   "cell_type": "code",
   "execution_count": 30,
   "id": "f8f9ecae",
   "metadata": {},
   "outputs": [],
   "source": [
    "df = df.sort_values(by='created_utc').reset_index(drop=True)"
   ]
  },
  {
   "cell_type": "code",
   "execution_count": 36,
   "id": "94012960",
   "metadata": {},
   "outputs": [],
   "source": [
    "#removing blanks\n",
    "df = df[df['text'] != '']"
   ]
  },
  {
   "cell_type": "code",
   "execution_count": 37,
   "id": "84001a8c",
   "metadata": {},
   "outputs": [],
   "source": [
    "df.to_csv('final_data.csv', index = False)"
   ]
  }
 ],
 "metadata": {
  "kernelspec": {
   "display_name": "Python 3 (ipykernel)",
   "language": "python",
   "name": "python3"
  },
  "language_info": {
   "codemirror_mode": {
    "name": "ipython",
    "version": 3
   },
   "file_extension": ".py",
   "mimetype": "text/x-python",
   "name": "python",
   "nbconvert_exporter": "python",
   "pygments_lexer": "ipython3",
   "version": "3.9.7"
  }
 },
 "nbformat": 4,
 "nbformat_minor": 5
}
