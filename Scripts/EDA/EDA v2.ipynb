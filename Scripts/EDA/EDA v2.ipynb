{
 "cells": [
  {
   "cell_type": "markdown",
   "id": "0cd81e24",
   "metadata": {},
   "source": [
    "# Import packages"
   ]
  },
  {
   "cell_type": "code",
   "execution_count": 1,
   "id": "1afb0cf8",
   "metadata": {},
   "outputs": [],
   "source": [
    "import pandas as pd\n",
    "import numpy as np\n",
    "from datetime import datetime\n",
    "import matplotlib.pyplot as plt\n",
    "from matplotlib.pyplot import figure\n",
    "import scipy as sp\n",
    "import scipy.stats as stats\n",
    "import seaborn as sns\n",
    "import glob\n",
    "import os\n",
    "from langdetect import detect\n",
    "from pandasql import sqldf"
   ]
  },
  {
   "cell_type": "markdown",
   "id": "f3905596",
   "metadata": {},
   "source": [
    "# EDA"
   ]
  },
  {
   "cell_type": "markdown",
   "id": "d83254eb",
   "metadata": {},
   "source": [
    "## Nasdaq Composite"
   ]
  },
  {
   "cell_type": "code",
   "execution_count": 2,
   "id": "fd8b1bd6",
   "metadata": {},
   "outputs": [],
   "source": [
    "nasdaq_df = pd.read_csv('NASDAQ.csv')"
   ]
  },
  {
   "cell_type": "code",
   "execution_count": 3,
   "id": "f8d75680",
   "metadata": {},
   "outputs": [
    {
     "data": {
      "text/html": [
       "<div>\n",
       "<style scoped>\n",
       "    .dataframe tbody tr th:only-of-type {\n",
       "        vertical-align: middle;\n",
       "    }\n",
       "\n",
       "    .dataframe tbody tr th {\n",
       "        vertical-align: top;\n",
       "    }\n",
       "\n",
       "    .dataframe thead th {\n",
       "        text-align: right;\n",
       "    }\n",
       "</style>\n",
       "<table border=\"1\" class=\"dataframe\">\n",
       "  <thead>\n",
       "    <tr style=\"text-align: right;\">\n",
       "      <th></th>\n",
       "      <th>Date</th>\n",
       "      <th>Open</th>\n",
       "      <th>High</th>\n",
       "      <th>Low</th>\n",
       "      <th>Close</th>\n",
       "      <th>Adj Close</th>\n",
       "      <th>Volume</th>\n",
       "    </tr>\n",
       "  </thead>\n",
       "  <tbody>\n",
       "    <tr>\n",
       "      <th>0</th>\n",
       "      <td>2021-01-04</td>\n",
       "      <td>12958.519531</td>\n",
       "      <td>12958.719727</td>\n",
       "      <td>12543.240234</td>\n",
       "      <td>12698.450195</td>\n",
       "      <td>12698.450195</td>\n",
       "      <td>6546740000</td>\n",
       "    </tr>\n",
       "    <tr>\n",
       "      <th>1</th>\n",
       "      <td>2021-01-05</td>\n",
       "      <td>12665.650391</td>\n",
       "      <td>12828.269531</td>\n",
       "      <td>12665.650391</td>\n",
       "      <td>12818.959961</td>\n",
       "      <td>12818.959961</td>\n",
       "      <td>6904420000</td>\n",
       "    </tr>\n",
       "    <tr>\n",
       "      <th>2</th>\n",
       "      <td>2021-01-06</td>\n",
       "      <td>12666.150391</td>\n",
       "      <td>12909.629883</td>\n",
       "      <td>12649.990234</td>\n",
       "      <td>12740.790039</td>\n",
       "      <td>12740.790039</td>\n",
       "      <td>7648340000</td>\n",
       "    </tr>\n",
       "    <tr>\n",
       "      <th>3</th>\n",
       "      <td>2021-01-07</td>\n",
       "      <td>12867.339844</td>\n",
       "      <td>13090.910156</td>\n",
       "      <td>12867.339844</td>\n",
       "      <td>13067.480469</td>\n",
       "      <td>13067.480469</td>\n",
       "      <td>6777010000</td>\n",
       "    </tr>\n",
       "    <tr>\n",
       "      <th>4</th>\n",
       "      <td>2021-01-08</td>\n",
       "      <td>13160.219727</td>\n",
       "      <td>13208.089844</td>\n",
       "      <td>13036.549805</td>\n",
       "      <td>13201.980469</td>\n",
       "      <td>13201.980469</td>\n",
       "      <td>7223660000</td>\n",
       "    </tr>\n",
       "  </tbody>\n",
       "</table>\n",
       "</div>"
      ],
      "text/plain": [
       "         Date          Open          High           Low         Close  \\\n",
       "0  2021-01-04  12958.519531  12958.719727  12543.240234  12698.450195   \n",
       "1  2021-01-05  12665.650391  12828.269531  12665.650391  12818.959961   \n",
       "2  2021-01-06  12666.150391  12909.629883  12649.990234  12740.790039   \n",
       "3  2021-01-07  12867.339844  13090.910156  12867.339844  13067.480469   \n",
       "4  2021-01-08  13160.219727  13208.089844  13036.549805  13201.980469   \n",
       "\n",
       "      Adj Close      Volume  \n",
       "0  12698.450195  6546740000  \n",
       "1  12818.959961  6904420000  \n",
       "2  12740.790039  7648340000  \n",
       "3  13067.480469  6777010000  \n",
       "4  13201.980469  7223660000  "
      ]
     },
     "execution_count": 3,
     "metadata": {},
     "output_type": "execute_result"
    }
   ],
   "source": [
    "nasdaq_df.head()"
   ]
  },
  {
   "cell_type": "code",
   "execution_count": 4,
   "id": "517396dc",
   "metadata": {},
   "outputs": [
    {
     "name": "stdout",
     "output_type": "stream",
     "text": [
      "<class 'pandas.core.frame.DataFrame'>\n",
      "RangeIndex: 251 entries, 0 to 250\n",
      "Data columns (total 7 columns):\n",
      " #   Column     Non-Null Count  Dtype  \n",
      "---  ------     --------------  -----  \n",
      " 0   Date       251 non-null    object \n",
      " 1   Open       251 non-null    float64\n",
      " 2   High       251 non-null    float64\n",
      " 3   Low        251 non-null    float64\n",
      " 4   Close      251 non-null    float64\n",
      " 5   Adj Close  251 non-null    float64\n",
      " 6   Volume     251 non-null    int64  \n",
      "dtypes: float64(5), int64(1), object(1)\n",
      "memory usage: 13.9+ KB\n",
      "None\n",
      "               Open          High           Low         Close     Adj Close  \\\n",
      "count    251.000000    251.000000    251.000000    251.000000    251.000000   \n",
      "mean   14365.893068  14449.994343  14265.493973  14366.589466  14366.589466   \n",
      "std      877.415640    870.231766    885.708538    878.791311    878.791311   \n",
      "min    12665.650391  12828.269531  12397.049805  12609.160156  12609.160156   \n",
      "25%    13681.439942  13726.405274  13552.469727  13633.169922  13633.169922   \n",
      "50%    14409.200195  14509.549805  14333.700195  14448.580078  14448.580078   \n",
      "75%    15055.185058  15155.520019  14966.029785  15068.854981  15068.854981   \n",
      "max    16120.919922  16212.230469  16017.230469  16057.440430  16057.440430   \n",
      "\n",
      "             Volume  \n",
      "count  2.510000e+02  \n",
      "mean   5.088265e+09  \n",
      "std    1.302780e+09  \n",
      "min    3.490650e+09  \n",
      "25%    4.153430e+09  \n",
      "50%    4.602940e+09  \n",
      "75%    5.640260e+09  \n",
      "max    1.110216e+10  \n"
     ]
    }
   ],
   "source": [
    "print(nasdaq_df.info())\n",
    "print(nasdaq_df.describe())"
   ]
  },
  {
   "cell_type": "code",
   "execution_count": 5,
   "id": "da0c5ed8",
   "metadata": {},
   "outputs": [],
   "source": [
    "#converting to datetime format\n",
    "nasdaq_df['Date'] = nasdaq_df.apply(lambda row : datetime.strptime(row['Date'],\"%Y-%m-%d\"), axis = 1)"
   ]
  },
  {
   "cell_type": "code",
   "execution_count": 6,
   "id": "0ae776e1",
   "metadata": {},
   "outputs": [
    {
     "data": {
      "image/png": "[encoded data removed]",
      "text/plain": [
       "<Figure size 432x576 with 2 Axes>"
      ]
     },
     "metadata": {
      "needs_background": "light"
     },
     "output_type": "display_data"
    }
   ],
   "source": [
    "#Visualise Nasdaq past year performance with volume\n",
    "nasdaq_data = nasdaq_df.set_index('Date')\n",
    "top_plt = plt.subplot2grid((5,4), (0, 0), rowspan=3, colspan=4)\n",
    "top_plt.plot(nasdaq_data.index, nasdaq_data[\"Close\"])\n",
    "plt.title('Historical Nasdaq Composite Performance')\n",
    "bottom_plt = plt.subplot2grid((5,4), (3,0), rowspan=1, colspan=4)\n",
    "bottom_plt.bar(nasdaq_data.index, nasdaq_data['Volume'])\n",
    "plt.title('Trading Volume', y=-0.60)\n",
    "plt.gcf().set_size_inches(6,8)"
   ]
  },
  {
   "cell_type": "code",
   "execution_count": 7,
   "id": "e66b01c1",
   "metadata": {},
   "outputs": [
    {
     "data": {
      "image/png": "[encoded data removed]",
      "text/plain": [
       "<Figure size 432x144 with 1 Axes>"
      ]
     },
     "metadata": {
      "needs_background": "light"
     },
     "output_type": "display_data"
    },
    {
     "data": {
      "text/plain": [
       "<Figure size 432x288 with 0 Axes>"
      ]
     },
     "metadata": {},
     "output_type": "display_data"
    }
   ],
   "source": [
    "plt.figure(figsize=(6,2))\n",
    "plt.bar(nasdaq_data.index, nasdaq_data['Volume'])\n",
    "plt.title('Nasdaq Volume per Day')\n",
    "plt.xlabel('Date')\n",
    "fig1 = plt.gcf()\n",
    "plt.show()\n",
    "plt.draw()\n",
    "fig1.savefig('nasdaq.png', dpi=100)"
   ]
  },
  {
   "cell_type": "code",
   "execution_count": 8,
   "id": "c56255a6",
   "metadata": {},
   "outputs": [
    {
     "data": {
      "image/png": "[encoded data removed]",
      "text/plain": [
       "<Figure size 432x288 with 1 Axes>"
      ]
     },
     "metadata": {
      "needs_background": "light"
     },
     "output_type": "display_data"
    },
    {
     "data": {
      "text/plain": [
       "<Figure size 432x288 with 0 Axes>"
      ]
     },
     "metadata": {},
     "output_type": "display_data"
    }
   ],
   "source": [
    "#add new column for change in daily price\n",
    "nasdaq_data['%change'] = nasdaq_data['Close'].pct_change()*100\n",
    "\n",
    "#visualise how daily fluctuations change throughout the year\n",
    "plt.figure(figsize=(6,4))\n",
    "plt.scatter(nasdaq_data.index,nasdaq_data['%change'])\n",
    "plt.ylabel('Percentage')\n",
    "plt.title('Nasdaq Daily Returns')\n",
    "fig1 = plt.gcf()\n",
    "plt.show()\n",
    "plt.draw()\n",
    "fig1.savefig('return1.png', dpi=100)"
   ]
  },
  {
   "cell_type": "code",
   "execution_count": 9,
   "id": "99489f26",
   "metadata": {},
   "outputs": [
    {
     "data": {
      "image/png": "[encoded data removed]",
      "text/plain": [
       "<Figure size 432x288 with 1 Axes>"
      ]
     },
     "metadata": {
      "needs_background": "light"
     },
     "output_type": "display_data"
    },
    {
     "data": {
      "text/plain": [
       "<Figure size 432x288 with 0 Axes>"
      ]
     },
     "metadata": {},
     "output_type": "display_data"
    }
   ],
   "source": [
    "#visualise the probability distribution of nasdaq daily fluctuations\n",
    "plt.figure(figsize=(6,4))\n",
    "plt.hist(nasdaq_data['%change'], density=True, bins=50)\n",
    "plt.ylabel('Probability')\n",
    "plt.xlabel('Percentage ')\n",
    "plt.title('Nasdaq Daily Returns Distribution')\n",
    "fig1 = plt.gcf()\n",
    "plt.show()\n",
    "plt.draw()\n",
    "fig1.savefig('return2.png', dpi=100)"
   ]
  },
  {
   "cell_type": "markdown",
   "id": "e6fee329",
   "metadata": {},
   "source": [
    "## Twitter data "
   ]
  },
  {
   "cell_type": "code",
   "execution_count": 10,
   "id": "f7fcaead",
   "metadata": {},
   "outputs": [
    {
     "data": {
      "text/html": [
       "<div>\n",
       "<style scoped>\n",
       "    .dataframe tbody tr th:only-of-type {\n",
       "        vertical-align: middle;\n",
       "    }\n",
       "\n",
       "    .dataframe tbody tr th {\n",
       "        vertical-align: top;\n",
       "    }\n",
       "\n",
       "    .dataframe thead th {\n",
       "        text-align: right;\n",
       "    }\n",
       "</style>\n",
       "<table border=\"1\" class=\"dataframe\">\n",
       "  <thead>\n",
       "    <tr style=\"text-align: right;\">\n",
       "      <th></th>\n",
       "      <th>Datetime</th>\n",
       "      <th>Tweet Id</th>\n",
       "      <th>Text</th>\n",
       "      <th>Likes</th>\n",
       "      <th>Retweets</th>\n",
       "      <th>Username</th>\n",
       "    </tr>\n",
       "  </thead>\n",
       "  <tbody>\n",
       "    <tr>\n",
       "      <th>0</th>\n",
       "      <td>2021-12-31 23:53:38+00:00</td>\n",
       "      <td>1477065441117827072</td>\n",
       "      <td>“cinnamon apple sauce is our special today and...</td>\n",
       "      <td>1</td>\n",
       "      <td>0</td>\n",
       "      <td>alxxxis_</td>\n",
       "    </tr>\n",
       "    <tr>\n",
       "      <th>1</th>\n",
       "      <td>2021-12-31 23:46:57+00:00</td>\n",
       "      <td>1477063759172669444</td>\n",
       "      <td>Hey @Apple Portrait mode does not work well fo...</td>\n",
       "      <td>1</td>\n",
       "      <td>0</td>\n",
       "      <td>apaulbrown</td>\n",
       "    </tr>\n",
       "    <tr>\n",
       "      <th>2</th>\n",
       "      <td>2021-12-31 23:45:19+00:00</td>\n",
       "      <td>1477063349330452484</td>\n",
       "      <td>$AAPL was the 11th most mentioned on wallstree...</td>\n",
       "      <td>0</td>\n",
       "      <td>1</td>\n",
       "      <td>topstonks</td>\n",
       "    </tr>\n",
       "    <tr>\n",
       "      <th>3</th>\n",
       "      <td>2021-12-31 23:26:26+00:00</td>\n",
       "      <td>1477058597381185537</td>\n",
       "      <td>@MoonMark_ So if I buy 1 share of Apple stock ...</td>\n",
       "      <td>24</td>\n",
       "      <td>0</td>\n",
       "      <td>LegionGlowV2</td>\n",
       "    </tr>\n",
       "    <tr>\n",
       "      <th>4</th>\n",
       "      <td>2021-12-31 23:09:44+00:00</td>\n",
       "      <td>1477054394319335424</td>\n",
       "      <td>ARGH! We are not a whiskey household, so it's ...</td>\n",
       "      <td>10</td>\n",
       "      <td>0</td>\n",
       "      <td>IsSasquatch</td>\n",
       "    </tr>\n",
       "  </tbody>\n",
       "</table>\n",
       "</div>"
      ],
      "text/plain": [
       "                    Datetime             Tweet Id  \\\n",
       "0  2021-12-31 23:53:38+00:00  1477065441117827072   \n",
       "1  2021-12-31 23:46:57+00:00  1477063759172669444   \n",
       "2  2021-12-31 23:45:19+00:00  1477063349330452484   \n",
       "3  2021-12-31 23:26:26+00:00  1477058597381185537   \n",
       "4  2021-12-31 23:09:44+00:00  1477054394319335424   \n",
       "\n",
       "                                                Text  Likes  Retweets  \\\n",
       "0  “cinnamon apple sauce is our special today and...      1         0   \n",
       "1  Hey @Apple Portrait mode does not work well fo...      1         0   \n",
       "2  $AAPL was the 11th most mentioned on wallstree...      0         1   \n",
       "3  @MoonMark_ So if I buy 1 share of Apple stock ...     24         0   \n",
       "4  ARGH! We are not a whiskey household, so it's ...     10         0   \n",
       "\n",
       "       Username  \n",
       "0      alxxxis_  \n",
       "1    apaulbrown  \n",
       "2     topstonks  \n",
       "3  LegionGlowV2  \n",
       "4   IsSasquatch  "
      ]
     },
     "execution_count": 10,
     "metadata": {},
     "output_type": "execute_result"
    }
   ],
   "source": [
    "twitter_df = pd.read_csv('scraped-tweets-v1.csv')\n",
    "twitter_df.head()"
   ]
  },
  {
   "cell_type": "code",
   "execution_count": 11,
   "id": "09e2ce8f",
   "metadata": {},
   "outputs": [
    {
     "name": "stdout",
     "output_type": "stream",
     "text": [
      "<class 'pandas.core.frame.DataFrame'>\n",
      "RangeIndex: 88192 entries, 0 to 88191\n",
      "Data columns (total 6 columns):\n",
      " #   Column    Non-Null Count  Dtype \n",
      "---  ------    --------------  ----- \n",
      " 0   Datetime  88192 non-null  object\n",
      " 1   Tweet Id  88192 non-null  int64 \n",
      " 2   Text      88192 non-null  object\n",
      " 3   Likes     88192 non-null  int64 \n",
      " 4   Retweets  88192 non-null  int64 \n",
      " 5   Username  88192 non-null  object\n",
      "dtypes: int64(3), object(3)\n",
      "memory usage: 4.0+ MB\n",
      "None\n",
      "           Tweet Id         Likes      Retweets\n",
      "count  8.819200e+04  88192.000000  88192.000000\n",
      "mean   1.408629e+18     15.063985      2.425084\n",
      "std    3.989003e+16    248.922897     55.363111\n",
      "min    1.344795e+18      0.000000      0.000000\n",
      "25%    1.372190e+18      1.000000      0.000000\n",
      "50%    1.407396e+18      2.000000      0.000000\n",
      "75%    1.445480e+18      5.000000      1.000000\n",
      "max    1.477065e+18  56646.000000  14517.000000\n"
     ]
    }
   ],
   "source": [
    "print(twitter_df.info())\n",
    "print(twitter_df.describe())"
   ]
  },
  {
   "cell_type": "code",
   "execution_count": 12,
   "id": "888fdfcc",
   "metadata": {
    "scrolled": true
   },
   "outputs": [],
   "source": [
    "#converting to datetime format and retain only day information\n",
    "twitter_df['Datetime'] = twitter_df.apply(lambda row : datetime.fromisoformat(row['Datetime']), axis = 1)\n",
    "twitter_df['Datetime'] = twitter_df.apply(lambda row : row['Datetime'].strftime('%Y-%m-%d'), axis = 1)\n",
    "twitter_df['Datetime'] = twitter_df.apply(lambda row : datetime.strptime(row['Datetime'],\"%Y-%m-%d\"), axis = 1)\n",
    "\n",
    "#check if any duplicates\n",
    "twitter_df['Tweet Id'].nunique()\n",
    "\n",
    "#drop tweets that have duplicate entry\n",
    "twitter_df = twitter_df.drop_duplicates(subset=['Tweet Id'])"
   ]
  },
  {
   "cell_type": "code",
   "execution_count": 13,
   "id": "5d89b21d",
   "metadata": {},
   "outputs": [
    {
     "data": {
      "text/plain": [
       "78773"
      ]
     },
     "execution_count": 13,
     "metadata": {},
     "output_type": "execute_result"
    }
   ],
   "source": [
    "#number of unique tweet\n",
    "len(twitter_df)"
   ]
  },
  {
   "cell_type": "code",
   "execution_count": 14,
   "id": "a86f179a",
   "metadata": {},
   "outputs": [
    {
     "data": {
      "text/plain": [
       "45408"
      ]
     },
     "execution_count": 14,
     "metadata": {},
     "output_type": "execute_result"
    }
   ],
   "source": [
    "#number of unique user\n",
    "twitter_df['Username'].nunique()"
   ]
  },
  {
   "cell_type": "code",
   "execution_count": 15,
   "id": "f64c99d6",
   "metadata": {},
   "outputs": [
    {
     "data": {
      "text/html": [
       "<div>\n",
       "<style scoped>\n",
       "    .dataframe tbody tr th:only-of-type {\n",
       "        vertical-align: middle;\n",
       "    }\n",
       "\n",
       "    .dataframe tbody tr th {\n",
       "        vertical-align: top;\n",
       "    }\n",
       "\n",
       "    .dataframe thead th {\n",
       "        text-align: right;\n",
       "    }\n",
       "</style>\n",
       "<table border=\"1\" class=\"dataframe\">\n",
       "  <thead>\n",
       "    <tr style=\"text-align: right;\">\n",
       "      <th></th>\n",
       "      <th>count</th>\n",
       "      <th>% of total tweets</th>\n",
       "    </tr>\n",
       "  </thead>\n",
       "  <tbody>\n",
       "    <tr>\n",
       "      <th>DataLoverDrops</th>\n",
       "      <td>673</td>\n",
       "      <td>0.854354</td>\n",
       "    </tr>\n",
       "    <tr>\n",
       "      <th>StockWatcherUK</th>\n",
       "      <td>479</td>\n",
       "      <td>0.608076</td>\n",
       "    </tr>\n",
       "    <tr>\n",
       "      <th>UPBOptionMil</th>\n",
       "      <td>472</td>\n",
       "      <td>0.599190</td>\n",
       "    </tr>\n",
       "    <tr>\n",
       "      <th>davidmoadel</th>\n",
       "      <td>472</td>\n",
       "      <td>0.599190</td>\n",
       "    </tr>\n",
       "    <tr>\n",
       "      <th>stockmentionbot</th>\n",
       "      <td>366</td>\n",
       "      <td>0.464626</td>\n",
       "    </tr>\n",
       "    <tr>\n",
       "      <th>SnailMonitor</th>\n",
       "      <td>361</td>\n",
       "      <td>0.458279</td>\n",
       "    </tr>\n",
       "    <tr>\n",
       "      <th>TheDataPros</th>\n",
       "      <td>325</td>\n",
       "      <td>0.412578</td>\n",
       "    </tr>\n",
       "    <tr>\n",
       "      <th>TrendSpider</th>\n",
       "      <td>303</td>\n",
       "      <td>0.384650</td>\n",
       "    </tr>\n",
       "    <tr>\n",
       "      <th>CustomPC_UK</th>\n",
       "      <td>287</td>\n",
       "      <td>0.364338</td>\n",
       "    </tr>\n",
       "    <tr>\n",
       "      <th>SmartOptionsAi</th>\n",
       "      <td>283</td>\n",
       "      <td>0.359260</td>\n",
       "    </tr>\n",
       "  </tbody>\n",
       "</table>\n",
       "</div>"
      ],
      "text/plain": [
       "                 count  % of total tweets\n",
       "DataLoverDrops     673           0.854354\n",
       "StockWatcherUK     479           0.608076\n",
       "UPBOptionMil       472           0.599190\n",
       "davidmoadel        472           0.599190\n",
       "stockmentionbot    366           0.464626\n",
       "SnailMonitor       361           0.458279\n",
       "TheDataPros        325           0.412578\n",
       "TrendSpider        303           0.384650\n",
       "CustomPC_UK        287           0.364338\n",
       "SmartOptionsAi     283           0.359260"
      ]
     },
     "execution_count": 15,
     "metadata": {},
     "output_type": "execute_result"
    }
   ],
   "source": [
    "#look at top 10 users in terms of number of tweet\n",
    "top_tweet_users = pd.DataFrame(twitter_df['Username'].value_counts())\n",
    "top_tweet_users = top_tweet_users.rename(columns = {\"Username\": \"count\"})\n",
    "top_tweet_users['% of total tweets'] = top_tweet_users['count']/len(twitter_df)*100\n",
    "top_tweet_users.head(10)"
   ]
  },
  {
   "cell_type": "code",
   "execution_count": 16,
   "id": "0c184d0b",
   "metadata": {},
   "outputs": [
    {
     "data": {
      "text/html": [
       "<div>\n",
       "<style scoped>\n",
       "    .dataframe tbody tr th:only-of-type {\n",
       "        vertical-align: middle;\n",
       "    }\n",
       "\n",
       "    .dataframe tbody tr th {\n",
       "        vertical-align: top;\n",
       "    }\n",
       "\n",
       "    .dataframe thead th {\n",
       "        text-align: right;\n",
       "    }\n",
       "</style>\n",
       "<table border=\"1\" class=\"dataframe\">\n",
       "  <thead>\n",
       "    <tr style=\"text-align: right;\">\n",
       "      <th></th>\n",
       "      <th>Datetime</th>\n",
       "      <th>Tweet Id</th>\n",
       "      <th>Text</th>\n",
       "      <th>Likes</th>\n",
       "      <th>Retweets</th>\n",
       "      <th>Username</th>\n",
       "    </tr>\n",
       "  </thead>\n",
       "  <tbody>\n",
       "    <tr>\n",
       "      <th>63940</th>\n",
       "      <td>2021-01-27</td>\n",
       "      <td>1354557666488586242</td>\n",
       "      <td>Wall Street: \"We want a free market\" The Inter...</td>\n",
       "      <td>56646</td>\n",
       "      <td>14517</td>\n",
       "      <td>JonathanYMusic</td>\n",
       "    </tr>\n",
       "    <tr>\n",
       "      <th>19313</th>\n",
       "      <td>2021-06-06</td>\n",
       "      <td>1401645147557974017</td>\n",
       "      <td>One thing I’ve always admired about Steve Jobs...</td>\n",
       "      <td>21824</td>\n",
       "      <td>3100</td>\n",
       "      <td>nayibbukele</td>\n",
       "    </tr>\n",
       "    <tr>\n",
       "      <th>19690</th>\n",
       "      <td>2021-06-01</td>\n",
       "      <td>1399834491468800004</td>\n",
       "      <td>I believe Binance coin $BNB will be bigger tha...</td>\n",
       "      <td>17438</td>\n",
       "      <td>1806</td>\n",
       "      <td>Davincij15</td>\n",
       "    </tr>\n",
       "    <tr>\n",
       "      <th>53631</th>\n",
       "      <td>2021-10-08</td>\n",
       "      <td>1446551635212242944</td>\n",
       "      <td>There’s smartphone leaks… and then there’s Goo...</td>\n",
       "      <td>13714</td>\n",
       "      <td>659</td>\n",
       "      <td>MKBHD</td>\n",
       "    </tr>\n",
       "    <tr>\n",
       "      <th>19840</th>\n",
       "      <td>2021-05-30</td>\n",
       "      <td>1399137990094381056</td>\n",
       "      <td>buy. apple. stock. https://t.co/yQs8TSZHOu</td>\n",
       "      <td>9632</td>\n",
       "      <td>237</td>\n",
       "      <td>goldengateblond</td>\n",
       "    </tr>\n",
       "    <tr>\n",
       "      <th>12359</th>\n",
       "      <td>2021-09-02</td>\n",
       "      <td>1433495485227089921</td>\n",
       "      <td>If you had invested $1,000 in $AAPL stock in 1...</td>\n",
       "      <td>7886</td>\n",
       "      <td>681</td>\n",
       "      <td>BusinessFamous</td>\n",
       "    </tr>\n",
       "    <tr>\n",
       "      <th>50926</th>\n",
       "      <td>2021-12-09</td>\n",
       "      <td>1468911413682921475</td>\n",
       "      <td>This is the most astonishing thing. I never wo...</td>\n",
       "      <td>7566</td>\n",
       "      <td>1590</td>\n",
       "      <td>CEOAdam</td>\n",
       "    </tr>\n",
       "    <tr>\n",
       "      <th>58112</th>\n",
       "      <td>2021-06-08</td>\n",
       "      <td>1402377245713485824</td>\n",
       "      <td>I just pulled a random stock image from google...</td>\n",
       "      <td>7522</td>\n",
       "      <td>396</td>\n",
       "      <td>CountDankulaTV</td>\n",
       "    </tr>\n",
       "    <tr>\n",
       "      <th>63617</th>\n",
       "      <td>2021-01-29</td>\n",
       "      <td>1355020057060012036</td>\n",
       "      <td>me investing into the stock market today after...</td>\n",
       "      <td>7119</td>\n",
       "      <td>1175</td>\n",
       "      <td>drea_dlc</td>\n",
       "    </tr>\n",
       "    <tr>\n",
       "      <th>83617</th>\n",
       "      <td>2021-11-28</td>\n",
       "      <td>1464752866225176577</td>\n",
       "      <td>the Xbox Series S outsold the PS5 and Xbox Ser...</td>\n",
       "      <td>6488</td>\n",
       "      <td>524</td>\n",
       "      <td>tomwarren</td>\n",
       "    </tr>\n",
       "  </tbody>\n",
       "</table>\n",
       "</div>"
      ],
      "text/plain": [
       "        Datetime             Tweet Id  \\\n",
       "63940 2021-01-27  1354557666488586242   \n",
       "19313 2021-06-06  1401645147557974017   \n",
       "19690 2021-06-01  1399834491468800004   \n",
       "53631 2021-10-08  1446551635212242944   \n",
       "19840 2021-05-30  1399137990094381056   \n",
       "12359 2021-09-02  1433495485227089921   \n",
       "50926 2021-12-09  1468911413682921475   \n",
       "58112 2021-06-08  1402377245713485824   \n",
       "63617 2021-01-29  1355020057060012036   \n",
       "83617 2021-11-28  1464752866225176577   \n",
       "\n",
       "                                                    Text  Likes  Retweets  \\\n",
       "63940  Wall Street: \"We want a free market\" The Inter...  56646     14517   \n",
       "19313  One thing I’ve always admired about Steve Jobs...  21824      3100   \n",
       "19690  I believe Binance coin $BNB will be bigger tha...  17438      1806   \n",
       "53631  There’s smartphone leaks… and then there’s Goo...  13714       659   \n",
       "19840         buy. apple. stock. https://t.co/yQs8TSZHOu   9632       237   \n",
       "12359  If you had invested $1,000 in $AAPL stock in 1...   7886       681   \n",
       "50926  This is the most astonishing thing. I never wo...   7566      1590   \n",
       "58112  I just pulled a random stock image from google...   7522       396   \n",
       "63617  me investing into the stock market today after...   7119      1175   \n",
       "83617  the Xbox Series S outsold the PS5 and Xbox Ser...   6488       524   \n",
       "\n",
       "              Username  \n",
       "63940   JonathanYMusic  \n",
       "19313      nayibbukele  \n",
       "19690       Davincij15  \n",
       "53631            MKBHD  \n",
       "19840  goldengateblond  \n",
       "12359   BusinessFamous  \n",
       "50926          CEOAdam  \n",
       "58112   CountDankulaTV  \n",
       "63617         drea_dlc  \n",
       "83617        tomwarren  "
      ]
     },
     "execution_count": 16,
     "metadata": {},
     "output_type": "execute_result"
    }
   ],
   "source": [
    "#look at top 10 tweets in terms of number of likes\n",
    "twitter_df.sort_values(by = 'Likes',ascending = False).head(10)"
   ]
  },
  {
   "cell_type": "code",
   "execution_count": 17,
   "id": "4d20dd9b",
   "metadata": {},
   "outputs": [
    {
     "data": {
      "text/html": [
       "<div>\n",
       "<style scoped>\n",
       "    .dataframe tbody tr th:only-of-type {\n",
       "        vertical-align: middle;\n",
       "    }\n",
       "\n",
       "    .dataframe tbody tr th {\n",
       "        vertical-align: top;\n",
       "    }\n",
       "\n",
       "    .dataframe thead th {\n",
       "        text-align: right;\n",
       "    }\n",
       "</style>\n",
       "<table border=\"1\" class=\"dataframe\">\n",
       "  <thead>\n",
       "    <tr style=\"text-align: right;\">\n",
       "      <th></th>\n",
       "      <th>Datetime</th>\n",
       "      <th>Tweet Id</th>\n",
       "      <th>Text</th>\n",
       "      <th>Likes</th>\n",
       "      <th>Retweets</th>\n",
       "      <th>Username</th>\n",
       "    </tr>\n",
       "  </thead>\n",
       "  <tbody>\n",
       "    <tr>\n",
       "      <th>63940</th>\n",
       "      <td>2021-01-27</td>\n",
       "      <td>1354557666488586242</td>\n",
       "      <td>Wall Street: \"We want a free market\" The Inter...</td>\n",
       "      <td>56646</td>\n",
       "      <td>14517</td>\n",
       "      <td>JonathanYMusic</td>\n",
       "    </tr>\n",
       "    <tr>\n",
       "      <th>19313</th>\n",
       "      <td>2021-06-06</td>\n",
       "      <td>1401645147557974017</td>\n",
       "      <td>One thing I’ve always admired about Steve Jobs...</td>\n",
       "      <td>21824</td>\n",
       "      <td>3100</td>\n",
       "      <td>nayibbukele</td>\n",
       "    </tr>\n",
       "    <tr>\n",
       "      <th>46241</th>\n",
       "      <td>2021-04-12</td>\n",
       "      <td>1381701380877004801</td>\n",
       "      <td>ICYMI: Recent financial disclosures show Speak...</td>\n",
       "      <td>5730</td>\n",
       "      <td>3022</td>\n",
       "      <td>RobletoFire</td>\n",
       "    </tr>\n",
       "    <tr>\n",
       "      <th>19690</th>\n",
       "      <td>2021-06-01</td>\n",
       "      <td>1399834491468800004</td>\n",
       "      <td>I believe Binance coin $BNB will be bigger tha...</td>\n",
       "      <td>17438</td>\n",
       "      <td>1806</td>\n",
       "      <td>Davincij15</td>\n",
       "    </tr>\n",
       "    <tr>\n",
       "      <th>64610</th>\n",
       "      <td>2021-01-14</td>\n",
       "      <td>1349788411926777856</td>\n",
       "      <td>Jesus Christ, there’s so much fraud on Spotify...</td>\n",
       "      <td>4278</td>\n",
       "      <td>1676</td>\n",
       "      <td>SociableBarely</td>\n",
       "    </tr>\n",
       "    <tr>\n",
       "      <th>50926</th>\n",
       "      <td>2021-12-09</td>\n",
       "      <td>1468911413682921475</td>\n",
       "      <td>This is the most astonishing thing. I never wo...</td>\n",
       "      <td>7566</td>\n",
       "      <td>1590</td>\n",
       "      <td>CEOAdam</td>\n",
       "    </tr>\n",
       "    <tr>\n",
       "      <th>7553</th>\n",
       "      <td>2021-10-21</td>\n",
       "      <td>1451217723078455306</td>\n",
       "      <td>💚 \"𝗟𝗜𝗞𝗘 + 𝗥𝗧\" to win a #GFUEL Mobile App-EXCLU...</td>\n",
       "      <td>1969</td>\n",
       "      <td>1456</td>\n",
       "      <td>GFuelEnergy</td>\n",
       "    </tr>\n",
       "    <tr>\n",
       "      <th>58508</th>\n",
       "      <td>2021-05-27</td>\n",
       "      <td>1397999596589158400</td>\n",
       "      <td>My vision for the Top 10: $ETH Internet of Blo...</td>\n",
       "      <td>5708</td>\n",
       "      <td>1363</td>\n",
       "      <td>nosleepjon</td>\n",
       "    </tr>\n",
       "    <tr>\n",
       "      <th>15313</th>\n",
       "      <td>2021-07-27</td>\n",
       "      <td>1420141872039743488</td>\n",
       "      <td>Apple today: \"In 3 months, we spent $10 billio...</td>\n",
       "      <td>4788</td>\n",
       "      <td>1321</td>\n",
       "      <td>Snowden</td>\n",
       "    </tr>\n",
       "    <tr>\n",
       "      <th>28429</th>\n",
       "      <td>2021-03-02</td>\n",
       "      <td>1366557732501880833</td>\n",
       "      <td>NEW: Majorie Taylor Greene, who screams about ...</td>\n",
       "      <td>2382</td>\n",
       "      <td>1177</td>\n",
       "      <td>NoahShachtman</td>\n",
       "    </tr>\n",
       "  </tbody>\n",
       "</table>\n",
       "</div>"
      ],
      "text/plain": [
       "        Datetime             Tweet Id  \\\n",
       "63940 2021-01-27  1354557666488586242   \n",
       "19313 2021-06-06  1401645147557974017   \n",
       "46241 2021-04-12  1381701380877004801   \n",
       "19690 2021-06-01  1399834491468800004   \n",
       "64610 2021-01-14  1349788411926777856   \n",
       "50926 2021-12-09  1468911413682921475   \n",
       "7553  2021-10-21  1451217723078455306   \n",
       "58508 2021-05-27  1397999596589158400   \n",
       "15313 2021-07-27  1420141872039743488   \n",
       "28429 2021-03-02  1366557732501880833   \n",
       "\n",
       "                                                    Text  Likes  Retweets  \\\n",
       "63940  Wall Street: \"We want a free market\" The Inter...  56646     14517   \n",
       "19313  One thing I’ve always admired about Steve Jobs...  21824      3100   \n",
       "46241  ICYMI: Recent financial disclosures show Speak...   5730      3022   \n",
       "19690  I believe Binance coin $BNB will be bigger tha...  17438      1806   \n",
       "64610  Jesus Christ, there’s so much fraud on Spotify...   4278      1676   \n",
       "50926  This is the most astonishing thing. I never wo...   7566      1590   \n",
       "7553   💚 \"𝗟𝗜𝗞𝗘 + 𝗥𝗧\" to win a #GFUEL Mobile App-EXCLU...   1969      1456   \n",
       "58508  My vision for the Top 10: $ETH Internet of Blo...   5708      1363   \n",
       "15313  Apple today: \"In 3 months, we spent $10 billio...   4788      1321   \n",
       "28429  NEW: Majorie Taylor Greene, who screams about ...   2382      1177   \n",
       "\n",
       "             Username  \n",
       "63940  JonathanYMusic  \n",
       "19313     nayibbukele  \n",
       "46241     RobletoFire  \n",
       "19690      Davincij15  \n",
       "64610  SociableBarely  \n",
       "50926         CEOAdam  \n",
       "7553      GFuelEnergy  \n",
       "58508      nosleepjon  \n",
       "15313         Snowden  \n",
       "28429   NoahShachtman  "
      ]
     },
     "execution_count": 17,
     "metadata": {},
     "output_type": "execute_result"
    }
   ],
   "source": [
    "#look at top 10 tweets in terms of number of retweet\n",
    "twitter_df.sort_values(by = 'Retweets',ascending = False).head(10)"
   ]
  },
  {
   "cell_type": "code",
   "execution_count": 18,
   "id": "150de0b1",
   "metadata": {},
   "outputs": [
    {
     "data": {
      "image/png": "[encoded data removed]",
      "text/plain": [
       "<Figure size 432x288 with 1 Axes>"
      ]
     },
     "metadata": {
      "needs_background": "light"
     },
     "output_type": "display_data"
    },
    {
     "name": "stdout",
     "output_type": "stream",
     "text": [
      "Max word count: 106\n",
      "Avg word count: 30\n",
      "Min word count: 2\n"
     ]
    },
    {
     "data": {
      "text/plain": [
       "<Figure size 432x288 with 0 Axes>"
      ]
     },
     "metadata": {},
     "output_type": "display_data"
    }
   ],
   "source": [
    "#add a column to include number of words for each tweet\n",
    "twitter_df['word count'] = twitter_df['Text'].str.split().apply(len)\n",
    "\n",
    "#visualise the frequency distribution of word count\n",
    "plt.hist(twitter_df['word count'], density=False, bins=50)\n",
    "plt.ylabel('Frequency')\n",
    "plt.xlabel('Word Count')\n",
    "plt.title('Twitter Word Count per Entry')\n",
    "fig1 = plt.gcf()\n",
    "plt.show()\n",
    "plt.draw()\n",
    "fig1.savefig('twitter2.png', dpi=100)\n",
    "\n",
    "print(\"Max word count: \" + str(max(twitter_df['word count'])))\n",
    "print(\"Avg word count: \" + str(round(sum(twitter_df['word count'])/len(twitter_df['word count']))))\n",
    "print(\"Min word count: \" + str(min(twitter_df['word count'])))"
   ]
  },
  {
   "cell_type": "code",
   "execution_count": 19,
   "id": "cd44b428",
   "metadata": {},
   "outputs": [
    {
     "data": {
      "image/png": "[encoded data removed]",
      "text/plain": [
       "<Figure size 432x288 with 1 Axes>"
      ]
     },
     "metadata": {
      "needs_background": "light"
     },
     "output_type": "display_data"
    },
    {
     "data": {
      "text/plain": [
       "<Figure size 432x288 with 0 Axes>"
      ]
     },
     "metadata": {},
     "output_type": "display_data"
    }
   ],
   "source": [
    "#likes vs word count\n",
    "plt.figure(figsize=(6,4))\n",
    "plt.scatter(twitter_df['word count'],twitter_df['Likes'])\n",
    "plt.title('Twitter Likes vs Word Count')\n",
    "plt.xlabel('Word Count')\n",
    "plt.ylabel('Likes')\n",
    "plt.ylim(0,10000)\n",
    "fig1 = plt.gcf()\n",
    "plt.show()\n",
    "plt.draw()\n",
    "fig1.savefig('twitter3.png', dpi=100)"
   ]
  },
  {
   "cell_type": "code",
   "execution_count": 20,
   "id": "5a9fccf9",
   "metadata": {},
   "outputs": [
    {
     "data": {
      "image/png": "[encoded data removed]",
      "text/plain": [
       "<Figure size 432x288 with 1 Axes>"
      ]
     },
     "metadata": {
      "needs_background": "light"
     },
     "output_type": "display_data"
    },
    {
     "data": {
      "text/plain": [
       "<Figure size 432x288 with 0 Axes>"
      ]
     },
     "metadata": {},
     "output_type": "display_data"
    }
   ],
   "source": [
    "#retweet vs word count\n",
    "plt.figure(figsize=(6,4))\n",
    "plt.scatter(twitter_df['word count'],twitter_df['Retweets'])\n",
    "plt.title('Twitter Retweets vs Word Count')\n",
    "plt.xlabel('Word Count')\n",
    "plt.ylabel('Retweets')\n",
    "plt.ylim(0,3800)\n",
    "fig1 = plt.gcf()\n",
    "plt.show()\n",
    "plt.draw()\n",
    "fig1.savefig('twitter4.png', dpi=100)"
   ]
  },
  {
   "cell_type": "code",
   "execution_count": 21,
   "id": "a4a0a7dc",
   "metadata": {},
   "outputs": [
    {
     "data": {
      "image/png": "[encoded data removed]",
      "text/plain": [
       "<Figure size 432x144 with 1 Axes>"
      ]
     },
     "metadata": {
      "needs_background": "light"
     },
     "output_type": "display_data"
    },
    {
     "name": "stdout",
     "output_type": "stream",
     "text": [
      "Max tweet count: 915 on 2021-01-28 00:00:00\n",
      "Avg tweet count: 216\n",
      "Min tweet count: 80 on 2021-07-04 00:00:00\n"
     ]
    },
    {
     "data": {
      "text/plain": [
       "<Figure size 432x288 with 0 Axes>"
      ]
     },
     "metadata": {},
     "output_type": "display_data"
    }
   ],
   "source": [
    "#visualise how many tweets sent every day\n",
    "plt.figure(figsize=(6,2))\n",
    "plt.plot(twitter_df.groupby('Datetime')['Tweet Id'].count())\n",
    "plt.title('Twitter Entries per Day')\n",
    "plt.xlabel('Date')\n",
    "fig1 = plt.gcf()\n",
    "plt.show()\n",
    "plt.draw()\n",
    "fig1.savefig('twitter.png', dpi=100)\n",
    "\n",
    "print(\"Max tweet count: \" + str(max(twitter_df.groupby('Datetime')['Tweet Id'].count())) \\\n",
    "      + \" on \" + str(twitter_df.groupby('Datetime')['Tweet Id'].count().index[ \\\n",
    "      np.argmax(twitter_df.groupby('Datetime')['Tweet Id'].count())]))\n",
    "\n",
    "print(\"Avg tweet count: \" + str(round(sum(twitter_df.groupby('Datetime')['Tweet Id'].count())/ \\\n",
    "                                      len(twitter_df.groupby('Datetime')['Tweet Id'].count()))))\n",
    "\n",
    "print(\"Min tweet count: \" + str(min(twitter_df.groupby('Datetime')['Tweet Id'].count())) \\\n",
    "      + \" on \" + str(twitter_df.groupby('Datetime')['Tweet Id'].count().index[ \\\n",
    "      np.argmin(twitter_df.groupby('Datetime')['Tweet Id'].count())]))"
   ]
  },
  {
   "cell_type": "markdown",
   "id": "101f5cd5",
   "metadata": {},
   "source": [
    "## Reddit Data"
   ]
  },
  {
   "cell_type": "code",
   "execution_count": 22,
   "id": "60152d64",
   "metadata": {},
   "outputs": [],
   "source": [
    "#read all stocks submissions as one dataset\n",
    "redtitle_df = pd.read_csv(\"redtitle_df.csv\")\n",
    "\n",
    "#read all submissions comments as one dataset\n",
    "redcomms_df = pd.read_csv(\"redcomms_df.csv\")\n",
    "\n",
    "#combine all submissions and comments into one dataset\n",
    "redtitle_df = redtitle_df.iloc[:,[0,2,3,5]]\n",
    "redtitle_df = redtitle_df.rename(columns = {\"title\":\"text\",\"created_utc\":\"Datetime\"})\n",
    "redcomms_df = redcomms_df.iloc[:,[1,3,4,5]]\n",
    "redcomms_df = redcomms_df.rename(columns = {\"comment_id\":\"id\",\"comment_body\":\"text\",\"comment_score\":\"score\",\"created_utc\":\"Datetime\"})\n",
    "reddit_df = pd.concat([redtitle_df,redcomms_df])"
   ]
  },
  {
   "cell_type": "code",
   "execution_count": 23,
   "id": "1108f638",
   "metadata": {},
   "outputs": [],
   "source": [
    "#removing deleted, removed and \"i am a bot\" posts\n",
    "q = '''\n",
    "select *\n",
    "from reddit_df\n",
    "where text not like '%[deleted%' and text not like '%I am a bot%' and text not like '%[remove%'\n",
    "'''\n",
    "\n",
    "reddit_df = sqldf(q)"
   ]
  },
  {
   "cell_type": "code",
   "execution_count": 24,
   "id": "077b1204",
   "metadata": {},
   "outputs": [
    {
     "data": {
      "text/html": [
       "<div>\n",
       "<style scoped>\n",
       "    .dataframe tbody tr th:only-of-type {\n",
       "        vertical-align: middle;\n",
       "    }\n",
       "\n",
       "    .dataframe tbody tr th {\n",
       "        vertical-align: top;\n",
       "    }\n",
       "\n",
       "    .dataframe thead th {\n",
       "        text-align: right;\n",
       "    }\n",
       "</style>\n",
       "<table border=\"1\" class=\"dataframe\">\n",
       "  <thead>\n",
       "    <tr style=\"text-align: right;\">\n",
       "      <th></th>\n",
       "      <th>id</th>\n",
       "      <th>text</th>\n",
       "      <th>score</th>\n",
       "      <th>Datetime</th>\n",
       "    </tr>\n",
       "  </thead>\n",
       "  <tbody>\n",
       "    <tr>\n",
       "      <th>0</th>\n",
       "      <td>rs8zp9</td>\n",
       "      <td>Adobe, and why in a month you’ll be able to fi...</td>\n",
       "      <td>7</td>\n",
       "      <td>2021-12-31 02:48:42</td>\n",
       "    </tr>\n",
       "    <tr>\n",
       "      <th>1</th>\n",
       "      <td>roc40k</td>\n",
       "      <td>Magnum Dong Opus 2: Post-Nut Ascension - How I...</td>\n",
       "      <td>1</td>\n",
       "      <td>2021-12-25 23:54:45</td>\n",
       "    </tr>\n",
       "    <tr>\n",
       "      <th>2</th>\n",
       "      <td>robxjj</td>\n",
       "      <td>Magnum Dong Opus 2: Post-Nut Ascension - How I...</td>\n",
       "      <td>2</td>\n",
       "      <td>2021-12-25 23:43:46</td>\n",
       "    </tr>\n",
       "    <tr>\n",
       "      <th>3</th>\n",
       "      <td>robr63</td>\n",
       "      <td>Magnum Dong Opus 2: Post-Nut Ascension - How I...</td>\n",
       "      <td>1</td>\n",
       "      <td>2021-12-25 23:32:17</td>\n",
       "    </tr>\n",
       "    <tr>\n",
       "      <th>4</th>\n",
       "      <td>robnb2</td>\n",
       "      <td>Magnum Dong Opus 2: Post-Nut Ascension - How I...</td>\n",
       "      <td>2</td>\n",
       "      <td>2021-12-25 23:25:41</td>\n",
       "    </tr>\n",
       "  </tbody>\n",
       "</table>\n",
       "</div>"
      ],
      "text/plain": [
       "       id                                               text  score  \\\n",
       "0  rs8zp9  Adobe, and why in a month you’ll be able to fi...      7   \n",
       "1  roc40k  Magnum Dong Opus 2: Post-Nut Ascension - How I...      1   \n",
       "2  robxjj  Magnum Dong Opus 2: Post-Nut Ascension - How I...      2   \n",
       "3  robr63  Magnum Dong Opus 2: Post-Nut Ascension - How I...      1   \n",
       "4  robnb2  Magnum Dong Opus 2: Post-Nut Ascension - How I...      2   \n",
       "\n",
       "              Datetime  \n",
       "0  2021-12-31 02:48:42  \n",
       "1  2021-12-25 23:54:45  \n",
       "2  2021-12-25 23:43:46  \n",
       "3  2021-12-25 23:32:17  \n",
       "4  2021-12-25 23:25:41  "
      ]
     },
     "execution_count": 24,
     "metadata": {},
     "output_type": "execute_result"
    }
   ],
   "source": [
    "reddit_df.head()"
   ]
  },
  {
   "cell_type": "code",
   "execution_count": 25,
   "id": "a41c996d",
   "metadata": {},
   "outputs": [
    {
     "name": "stdout",
     "output_type": "stream",
     "text": [
      "<class 'pandas.core.frame.DataFrame'>\n",
      "RangeIndex: 351179 entries, 0 to 351178\n",
      "Data columns (total 4 columns):\n",
      " #   Column    Non-Null Count   Dtype \n",
      "---  ------    --------------   ----- \n",
      " 0   id        351179 non-null  object\n",
      " 1   text      351179 non-null  object\n",
      " 2   score     351179 non-null  int64 \n",
      " 3   Datetime  351179 non-null  object\n",
      "dtypes: int64(1), object(3)\n",
      "memory usage: 10.7+ MB\n",
      "None\n",
      "               score\n",
      "count  351179.000000\n",
      "mean       17.048331\n",
      "std       378.914082\n",
      "min      -359.000000\n",
      "25%         1.000000\n",
      "50%         2.000000\n",
      "75%         6.000000\n",
      "max    143761.000000\n"
     ]
    }
   ],
   "source": [
    "print(reddit_df.info())\n",
    "print(reddit_df.describe())"
   ]
  },
  {
   "cell_type": "code",
   "execution_count": 26,
   "id": "7b565f04",
   "metadata": {},
   "outputs": [],
   "source": [
    "#converting to datetime format and retain only day information\n",
    "reddit_df['Datetime'] = reddit_df.apply(lambda row : datetime.strptime(row['Datetime'],\"%Y-%m-%d %H:%M:%S\"), axis = 1)\n",
    "reddit_df['Datetime'] = reddit_df.apply(lambda row : row['Datetime'].strftime('%Y-%m-%d'), axis = 1)\n",
    "reddit_df['Datetime'] = reddit_df.apply(lambda row : datetime.strptime(row['Datetime'],\"%Y-%m-%d\"), axis = 1)\n",
    "\n",
    "#remove entries that don't belong to Year 2021\n",
    "reddit_df = reddit_df[reddit_df['Datetime'] < '2022-01-01']\n",
    "\n",
    "#check if any duplicates\n",
    "reddit_df['id'].nunique()\n",
    "\n",
    "#drop duplicates\n",
    "reddit_df = reddit_df.drop_duplicates(subset=['id'])"
   ]
  },
  {
   "cell_type": "code",
   "execution_count": 27,
   "id": "4810a122",
   "metadata": {},
   "outputs": [
    {
     "data": {
      "text/plain": [
       "276646"
      ]
     },
     "execution_count": 27,
     "metadata": {},
     "output_type": "execute_result"
    }
   ],
   "source": [
    "#number of unique entry\n",
    "len(reddit_df)"
   ]
  },
  {
   "cell_type": "code",
   "execution_count": 28,
   "id": "f0df8b7c",
   "metadata": {},
   "outputs": [
    {
     "data": {
      "text/html": [
       "<div>\n",
       "<style scoped>\n",
       "    .dataframe tbody tr th:only-of-type {\n",
       "        vertical-align: middle;\n",
       "    }\n",
       "\n",
       "    .dataframe tbody tr th {\n",
       "        vertical-align: top;\n",
       "    }\n",
       "\n",
       "    .dataframe thead th {\n",
       "        text-align: right;\n",
       "    }\n",
       "</style>\n",
       "<table border=\"1\" class=\"dataframe\">\n",
       "  <thead>\n",
       "    <tr style=\"text-align: right;\">\n",
       "      <th></th>\n",
       "      <th>id</th>\n",
       "      <th>text</th>\n",
       "      <th>score</th>\n",
       "      <th>Datetime</th>\n",
       "    </tr>\n",
       "  </thead>\n",
       "  <tbody>\n",
       "    <tr>\n",
       "      <th>4466</th>\n",
       "      <td>l6omry</td>\n",
       "      <td>An Open Letter to Melvin Capital, CNBC, Boomer...</td>\n",
       "      <td>143761</td>\n",
       "      <td>2021-01-28</td>\n",
       "    </tr>\n",
       "    <tr>\n",
       "      <th>2886</th>\n",
       "      <td>lbdi8m</td>\n",
       "      <td>Message from a TSLA veteran: Shut the fuck up ...</td>\n",
       "      <td>60268</td>\n",
       "      <td>2021-02-03</td>\n",
       "    </tr>\n",
       "    <tr>\n",
       "      <th>6859</th>\n",
       "      <td>laferl</td>\n",
       "      <td>15 U.S.C.A. § 78i - the Illegality of Short La...</td>\n",
       "      <td>56956</td>\n",
       "      <td>2021-02-02</td>\n",
       "    </tr>\n",
       "    <tr>\n",
       "      <th>10209</th>\n",
       "      <td>qi1au6</td>\n",
       "      <td>META gets new CEO</td>\n",
       "      <td>54471</td>\n",
       "      <td>2021-10-29</td>\n",
       "    </tr>\n",
       "    <tr>\n",
       "      <th>10163</th>\n",
       "      <td>qjw47o</td>\n",
       "      <td>The new and improved META logo</td>\n",
       "      <td>51593</td>\n",
       "      <td>2021-11-01</td>\n",
       "    </tr>\n",
       "    <tr>\n",
       "      <th>7086</th>\n",
       "      <td>l8ms73</td>\n",
       "      <td>Google helps Robinhood after swarm of negative...</td>\n",
       "      <td>36705</td>\n",
       "      <td>2021-01-30</td>\n",
       "    </tr>\n",
       "    <tr>\n",
       "      <th>11325</th>\n",
       "      <td>mjllx5</td>\n",
       "      <td>The phone numbers and personal data of over 55...</td>\n",
       "      <td>36222</td>\n",
       "      <td>2021-04-04</td>\n",
       "    </tr>\n",
       "    <tr>\n",
       "      <th>3160</th>\n",
       "      <td>l86eed</td>\n",
       "      <td>A MESSAGE FOR GME SHORT SELLERS</td>\n",
       "      <td>33709</td>\n",
       "      <td>2021-01-30</td>\n",
       "    </tr>\n",
       "    <tr>\n",
       "      <th>6472</th>\n",
       "      <td>lodpnu</td>\n",
       "      <td>Not a single Robinhood screenshot on the front...</td>\n",
       "      <td>31438</td>\n",
       "      <td>2021-02-21</td>\n",
       "    </tr>\n",
       "    <tr>\n",
       "      <th>12327</th>\n",
       "      <td>l6izw5</td>\n",
       "      <td>Stay Calm - A quick explanation about why the ...</td>\n",
       "      <td>28430</td>\n",
       "      <td>2021-01-28</td>\n",
       "    </tr>\n",
       "  </tbody>\n",
       "</table>\n",
       "</div>"
      ],
      "text/plain": [
       "           id                                               text   score  \\\n",
       "4466   l6omry  An Open Letter to Melvin Capital, CNBC, Boomer...  143761   \n",
       "2886   lbdi8m  Message from a TSLA veteran: Shut the fuck up ...   60268   \n",
       "6859   laferl  15 U.S.C.A. § 78i - the Illegality of Short La...   56956   \n",
       "10209  qi1au6                                  META gets new CEO   54471   \n",
       "10163  qjw47o                     The new and improved META logo   51593   \n",
       "7086   l8ms73  Google helps Robinhood after swarm of negative...   36705   \n",
       "11325  mjllx5  The phone numbers and personal data of over 55...   36222   \n",
       "3160   l86eed                    A MESSAGE FOR GME SHORT SELLERS   33709   \n",
       "6472   lodpnu  Not a single Robinhood screenshot on the front...   31438   \n",
       "12327  l6izw5  Stay Calm - A quick explanation about why the ...   28430   \n",
       "\n",
       "        Datetime  \n",
       "4466  2021-01-28  \n",
       "2886  2021-02-03  \n",
       "6859  2021-02-02  \n",
       "10209 2021-10-29  \n",
       "10163 2021-11-01  \n",
       "7086  2021-01-30  \n",
       "11325 2021-04-04  \n",
       "3160  2021-01-30  \n",
       "6472  2021-02-21  \n",
       "12327 2021-01-28  "
      ]
     },
     "execution_count": 28,
     "metadata": {},
     "output_type": "execute_result"
    }
   ],
   "source": [
    "#look at top 10 entries with the highest score\n",
    "reddit_df.sort_values(by = 'score',ascending = False).head(10)"
   ]
  },
  {
   "cell_type": "code",
   "execution_count": 29,
   "id": "100c5221",
   "metadata": {},
   "outputs": [
    {
     "data": {
      "image/png": "[encoded data removed]",
      "text/plain": [
       "<Figure size 432x288 with 1 Axes>"
      ]
     },
     "metadata": {
      "needs_background": "light"
     },
     "output_type": "display_data"
    },
    {
     "name": "stdout",
     "output_type": "stream",
     "text": [
      "Max word count: 14566\n",
      "Avg word count: 211\n",
      "Min word count: 5\n"
     ]
    },
    {
     "data": {
      "text/plain": [
       "<Figure size 432x288 with 0 Axes>"
      ]
     },
     "metadata": {},
     "output_type": "display_data"
    }
   ],
   "source": [
    "#add a column to include number of words for each entry\n",
    "reddit_df['word count'] = reddit_df['text'].str.split().astype(str).apply(len)\n",
    "\n",
    "#visualise the frequency distribution of word count\n",
    "plt.hist(reddit_df['word count'], density=False, bins=300)\n",
    "plt.ylabel('Frequency')\n",
    "plt.xlabel('Word Count')\n",
    "plt.title('Reddit Word Count per Entry')\n",
    "plt.xlim(0,2500)\n",
    "fig1 = plt.gcf()\n",
    "plt.show()\n",
    "plt.draw()\n",
    "fig1.savefig('reddit2.png', dpi=100)\n",
    "\n",
    "print(\"Max word count: \" + str(max(reddit_df['word count'])))\n",
    "print(\"Avg word count: \" + str(round(sum(reddit_df['word count'])/len(reddit_df['word count']))))\n",
    "print(\"Min word count: \" + str(min(reddit_df['word count'])))"
   ]
  },
  {
   "cell_type": "code",
   "execution_count": 30,
   "id": "3be6edd6",
   "metadata": {},
   "outputs": [
    {
     "data": {
      "image/png": "[encoded data removed]",
      "text/plain": [
       "<Figure size 432x288 with 1 Axes>"
      ]
     },
     "metadata": {
      "needs_background": "light"
     },
     "output_type": "display_data"
    },
    {
     "data": {
      "text/plain": [
       "<Figure size 432x288 with 0 Axes>"
      ]
     },
     "metadata": {},
     "output_type": "display_data"
    }
   ],
   "source": [
    "#score vs word count\n",
    "plt.figure(figsize=(6,4))\n",
    "plt.scatter(reddit_df['word count'],reddit_df['score'])\n",
    "plt.title('Reddit Score vs Word Count')\n",
    "plt.xlabel('Word Count')\n",
    "plt.ylabel('Score')\n",
    "plt.ylim(0,65000)\n",
    "fig1 = plt.gcf()\n",
    "plt.show()\n",
    "plt.draw()\n",
    "fig1.savefig('reddit3.png', dpi=100)"
   ]
  },
  {
   "cell_type": "code",
   "execution_count": 31,
   "id": "33bf635f",
   "metadata": {},
   "outputs": [
    {
     "data": {
      "image/png": "[encoded data removed]",
      "text/plain": [
       "<Figure size 432x144 with 1 Axes>"
      ]
     },
     "metadata": {
      "needs_background": "light"
     },
     "output_type": "display_data"
    },
    {
     "name": "stdout",
     "output_type": "stream",
     "text": [
      "Max entries: 8824 on 2021-01-28 00:00:00\n",
      "Avg entries: 758\n",
      "Min entries: 5 on 2021-03-25 00:00:00\n"
     ]
    },
    {
     "data": {
      "text/plain": [
       "<Figure size 432x288 with 0 Axes>"
      ]
     },
     "metadata": {},
     "output_type": "display_data"
    }
   ],
   "source": [
    "#visualise how many entries posted every day\n",
    "plt.figure(figsize=(6,2))\n",
    "plt.plot(reddit_df.groupby('Datetime')['id'].count())\n",
    "plt.title('Reddit Entries per Day')\n",
    "plt.xlabel('Date')\n",
    "fig1 = plt.gcf()\n",
    "plt.show()\n",
    "plt.draw()\n",
    "fig1.savefig('reddit.png', dpi=100)\n",
    "\n",
    "print(\"Max entries: \" + str(max(reddit_df.groupby('Datetime')['id'].count())) \\\n",
    "      + \" on \" + str(reddit_df.groupby('Datetime')['id'].count().index[ \\\n",
    "      np.argmax(reddit_df.groupby('Datetime')['id'].count())]))\n",
    "\n",
    "print(\"Avg entries: \" + str(round(sum(reddit_df.groupby('Datetime')['id'].count())/ \\\n",
    "                                  len(reddit_df.groupby('Datetime')['id'].count()))))\n",
    "\n",
    "print(\"Min entries: \" + str(min(reddit_df.groupby('Datetime')['id'].count())) \\\n",
    "      + \" on \" + str(reddit_df.groupby('Datetime')['id'].count().index[ \\\n",
    "      np.argmin(reddit_df.groupby('Datetime')['id'].count())]))"
   ]
  },
  {
   "cell_type": "markdown",
   "id": "7004c48a",
   "metadata": {},
   "source": [
    "# YouTube Data"
   ]
  },
  {
   "cell_type": "code",
   "execution_count": 32,
   "id": "11e33950",
   "metadata": {},
   "outputs": [],
   "source": [
    "#load video titles of the 10 companies\n",
    "yttitle_df = pd.read_csv('youtube_video_titles_from_query_relevance.csv')\n",
    "\n",
    "#read all companies youtube comments into one dataset\n",
    "ytcomms_df = pd.read_csv('ytcomms_df.csv')"
   ]
  },
  {
   "cell_type": "code",
   "execution_count": 33,
   "id": "0d36634d",
   "metadata": {},
   "outputs": [],
   "source": [
    "##focus only on title\n",
    "#check if any duplicates\n",
    "yttitle_df['Video ID'].nunique()\n",
    "\n",
    "#drop duplicates\n",
    "yttitle_df = yttitle_df.drop_duplicates(subset=['Video ID'])"
   ]
  },
  {
   "cell_type": "code",
   "execution_count": 34,
   "id": "830330d2",
   "metadata": {},
   "outputs": [],
   "source": [
    "#combine all titles and comments into one dataset\n",
    "yttitle_df = yttitle_df.drop(['query'],axis=1) \n",
    "yttitle_df = yttitle_df.rename(columns = {\"Video Title\":\"Entries\"})\n",
    "ytcomms_df = ytcomms_df.rename(columns = {\"Comment\":\"Entries\"})\n",
    "youtube_df = pd.concat([yttitle_df,ytcomms_df])\n",
    "\n",
    "#converting to datetime format and retain only day information\n",
    "youtube_df['Timestamp'] = youtube_df.apply(lambda row : datetime.fromisoformat(row['Timestamp'][:-1]+ '+00:00'), axis = 1)\n",
    "youtube_df['Timestamp'] = youtube_df.apply(lambda row : row['Timestamp'].strftime('%Y-%m-%d'), axis = 1)\n",
    "youtube_df['Timestamp'] = youtube_df.apply(lambda row : datetime.strptime(row['Timestamp'],\"%Y-%m-%d\"), axis = 1)\n",
    "\n",
    "#remove entries that don't belong to Year 2021\n",
    "youtube_df = youtube_df[youtube_df['Timestamp'] < '2022-01-01']"
   ]
  },
  {
   "cell_type": "code",
   "execution_count": 35,
   "id": "1b4c571f",
   "metadata": {},
   "outputs": [
    {
     "name": "stdout",
     "output_type": "stream",
     "text": [
      "<class 'pandas.core.frame.DataFrame'>\n",
      "Int64Index: 111153 entries, 0 to 112753\n",
      "Data columns (total 3 columns):\n",
      " #   Column     Non-Null Count   Dtype         \n",
      "---  ------     --------------   -----         \n",
      " 0   Video ID   111153 non-null  object        \n",
      " 1   Entries    111150 non-null  object        \n",
      " 2   Timestamp  111153 non-null  datetime64[ns]\n",
      "dtypes: datetime64[ns](1), object(2)\n",
      "memory usage: 3.4+ MB\n",
      "None\n",
      "           Video ID Entries            Timestamp\n",
      "count        111153  111150               111153\n",
      "unique         3306  103072                  365\n",
      "top     xNDHiiJaxes       X  2021-04-13 00:00:00\n",
      "freq           5808      97                 2872\n",
      "first           NaN     NaN  2021-01-01 00:00:00\n",
      "last            NaN     NaN  2021-12-31 00:00:00\n"
     ]
    },
    {
     "name": "stderr",
     "output_type": "stream",
     "text": [
      "<ipython-input-35-c35b8190bf9d>:2: FutureWarning: Treating datetime data as categorical rather than numeric in `.describe` is deprecated and will be removed in a future version of pandas. Specify `datetime_is_numeric=True` to silence this warning and adopt the future behavior now.\n",
      "  print(youtube_df.describe())\n"
     ]
    }
   ],
   "source": [
    "print(youtube_df.info())\n",
    "print(youtube_df.describe())"
   ]
  },
  {
   "cell_type": "code",
   "execution_count": 36,
   "id": "cb49a5b1",
   "metadata": {},
   "outputs": [],
   "source": [
    "#drop na\n",
    "youtube_df = youtube_df[youtube_df.notna()]"
   ]
  },
  {
   "cell_type": "code",
   "execution_count": 37,
   "id": "8ed819c0",
   "metadata": {},
   "outputs": [
    {
     "data": {
      "text/plain": [
       "111153"
      ]
     },
     "execution_count": 37,
     "metadata": {},
     "output_type": "execute_result"
    }
   ],
   "source": [
    "#number of unique entry\n",
    "len(youtube_df)"
   ]
  },
  {
   "cell_type": "code",
   "execution_count": 38,
   "id": "8493f760",
   "metadata": {},
   "outputs": [
    {
     "data": {
      "image/png": "[encoded data removed]",
      "text/plain": [
       "<Figure size 432x288 with 1 Axes>"
      ]
     },
     "metadata": {
      "needs_background": "light"
     },
     "output_type": "display_data"
    },
    {
     "name": "stdout",
     "output_type": "stream",
     "text": [
      "Max word count: 15533\n",
      "Avg word count: 176\n",
      "Min word count: 3\n"
     ]
    },
    {
     "data": {
      "text/plain": [
       "<Figure size 432x288 with 0 Axes>"
      ]
     },
     "metadata": {},
     "output_type": "display_data"
    }
   ],
   "source": [
    "#add a column to include number of words for each entry\n",
    "youtube_df['word count'] = youtube_df['Entries'].str.split().astype(str).apply(len)\n",
    "\n",
    "#visualise the frequency distribution of word count\n",
    "plt.hist(youtube_df['word count'], density=False, bins=400)\n",
    "plt.ylabel('Frequency')\n",
    "plt.xlabel('Word Count')\n",
    "plt.title('YouTube Word Count per Entry')\n",
    "plt.xlim(0,1800)\n",
    "fig1 = plt.gcf()\n",
    "plt.show()\n",
    "plt.draw()\n",
    "fig1.savefig('youtube2.png', dpi=100)\n",
    "\n",
    "print(\"Max word count: \" + str(max(youtube_df['word count'])))\n",
    "print(\"Avg word count: \" + str(round(sum(youtube_df['word count'])/len(youtube_df['word count']))))\n",
    "print(\"Min word count: \" + str(min(youtube_df['word count'])))"
   ]
  },
  {
   "cell_type": "code",
   "execution_count": 39,
   "id": "85a59f9e",
   "metadata": {},
   "outputs": [
    {
     "data": {
      "image/png": "[encoded data removed]",
      "text/plain": [
       "<Figure size 432x144 with 1 Axes>"
      ]
     },
     "metadata": {
      "needs_background": "light"
     },
     "output_type": "display_data"
    },
    {
     "name": "stdout",
     "output_type": "stream",
     "text": [
      "Max entries: 2872 on 2021-04-13 00:00:00\n",
      "Avg entries: 305\n",
      "Min entries: 12 on 2021-01-01 00:00:00\n"
     ]
    },
    {
     "data": {
      "text/plain": [
       "<Figure size 432x288 with 0 Axes>"
      ]
     },
     "metadata": {},
     "output_type": "display_data"
    }
   ],
   "source": [
    "#visualise how many entries posted every day\n",
    "plt.figure(figsize=(6,2))\n",
    "plt.plot(youtube_df.groupby('Timestamp')['Video ID'].count())\n",
    "plt.title('YouTube Entries per Day')\n",
    "plt.xlabel('Date')\n",
    "fig1 = plt.gcf()\n",
    "plt.show()\n",
    "plt.draw()\n",
    "fig1.savefig('youtube.png', dpi=100)\n",
    "\n",
    "print(\"Max entries: \" + str(max(youtube_df.groupby('Timestamp')['Video ID'].count())) \\\n",
    "      + \" on \" + str(youtube_df.groupby('Timestamp')['Video ID'].count().index[ \\\n",
    "      np.argmax(youtube_df.groupby('Timestamp')['Video ID'].count())]))\n",
    "\n",
    "print(\"Avg entries: \" + str(round(sum(youtube_df.groupby('Timestamp')['Video ID'].count())/ \\\n",
    "                                  len(youtube_df.groupby('Timestamp')['Video ID'].count()))))\n",
    "\n",
    "print(\"Min entries: \" + str(min(youtube_df.groupby('Timestamp')['Video ID'].count())) \\\n",
    "      + \" on \" + str(youtube_df.groupby('Timestamp')['Video ID'].count().index[ \\\n",
    "      np.argmin(youtube_df.groupby('Timestamp')['Video ID'].count())]))"
   ]
  }
 ],
 "metadata": {
  "kernelspec": {
   "display_name": "Python 3",
   "language": "python",
   "name": "python3"
  },
  "language_info": {
   "codemirror_mode": {
    "name": "ipython",
    "version": 3
   },
   "file_extension": ".py",
   "mimetype": "text/x-python",
   "name": "python",
   "nbconvert_exporter": "python",
   "pygments_lexer": "ipython3",
   "version": "3.8.12"
  }
 },
 "nbformat": 4,
 "nbformat_minor": 5
}
